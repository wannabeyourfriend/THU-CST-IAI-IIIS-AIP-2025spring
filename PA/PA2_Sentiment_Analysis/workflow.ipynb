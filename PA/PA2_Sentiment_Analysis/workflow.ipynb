{
 "cells": [
  {
   "cell_type": "markdown",
   "metadata": {},
   "source": [
    "# 句子情感分类实验\n",
    "\n",
    "本notebook实现了基于不同深度学习模型的句子情感分类任务，包括：\n",
    "- MLP（多层感知机）\n",
    "- CNN（卷积神经网络）\n",
    "- RNN（LSTM/GRU）"
   ]
  },
  {
   "cell_type": "code",
   "execution_count": 1,
   "metadata": {},
   "outputs": [],
   "source": [
    "import torch\n",
    "import torch.nn as nn\n",
    "from torch.utils.data import DataLoader\n",
    "import wandb\n",
    "\n",
    "from Dataset.data_processor import load_word2vec, create_data_loader\n",
    "from model.mlp import MLP\n",
    "from model.cnn import TextCNN\n",
    "from model.rnn import RNNClassifier\n",
    "from utils.trainer import Trainer"
   ]
  },
  {
   "cell_type": "code",
   "execution_count": 2,
   "metadata": {},
   "outputs": [
    {
     "name": "stdout",
     "output_type": "stream",
     "text": [
      "\u001b[34m\u001b[1mwandb\u001b[0m: No netrc file found, creating one.\n",
      "\u001b[34m\u001b[1mwandb\u001b[0m: Appending key for api.wandb.ai to your netrc file: /root/.netrc\n",
      "\u001b[34m\u001b[1mwandb\u001b[0m: W&B API key is configured. Use \u001b[1m`wandb login --relogin`\u001b[0m to force relogin\n"
     ]
    }
   ],
   "source": [
    "!wandb login 1372d7543091de94fe28f909a22670e57518697f"
   ]
  },
  {
   "cell_type": "markdown",
   "metadata": {},
   "source": [
    "## 1. 数据准备\n",
    "加载预训练的word2vec模型和数据集"
   ]
  },
  {
   "cell_type": "code",
   "execution_count": 3,
   "metadata": {},
   "outputs": [],
   "source": [
    "# 设置设备\n",
    "device = torch.device('cuda' if torch.cuda.is_available() else 'cpu')\n",
    "\n",
    "# 加载word2vec模型\n",
    "word2vec_model = load_word2vec('Dataset/wiki_word2vec_50.bin')\n",
    "\n",
    "# 创建数据加载器\n",
    "train_loader = create_data_loader('Dataset/train.txt', word2vec_model, batch_size=32)\n",
    "val_loader = create_data_loader('Dataset/validation.txt', word2vec_model, batch_size=32)\n",
    "test_loader = create_data_loader('Dataset/test.txt', word2vec_model, batch_size=32)"
   ]
  },
  {
   "cell_type": "markdown",
   "metadata": {},
   "source": [
    "## 2. wandb配置\n",
    "设置wandb项目和实验配置函数"
   ]
  },
  {
   "cell_type": "code",
   "execution_count": 4,
   "metadata": {},
   "outputs": [],
   "source": [
    "# 设置wandb项目和实验配置\n",
    "def init_wandb_experiment(config, name=None):\n",
    "    \"\"\"初始化wandb实验\"\"\"\n",
    "    run = wandb.init(\n",
    "        project=\"sentiment-analysis\",\n",
    "        name=name if name else config['model_name'],\n",
    "        config=config,\n",
    "        reinit=True\n",
    "    )\n",
    "    return run\n",
    "\n",
    "# 模型性能比较函数\n",
    "def compare_models(models_metrics):\n",
    "    \"\"\"比较不同模型的性能并在wandb中可视化\"\"\"\n",
    "    # 创建比较表格\n",
    "    comparison_table = wandb.Table(\n",
    "        columns=[\"Model\", \"Accuracy\", \"Precision\", \"Recall\", \"F1-Score\"]\n",
    "    )\n",
    "    \n",
    "    # 添加各模型的性能数据\n",
    "    for model_name, metrics in models_metrics.items():\n",
    "        comparison_table.add_data(\n",
    "            model_name,\n",
    "            metrics['test_accuracy'],\n",
    "            metrics['test_precision'],\n",
    "            metrics['test_recall'],\n",
    "            metrics['test_f1']\n",
    "        )\n",
    "    \n",
    "    # 记录表格\n",
    "    wandb.log({\"model_comparison\": comparison_table})\n",
    "    \n",
    "    # 创建性能对比图\n",
    "    for metric in ['test_accuracy', 'test_precision', 'test_recall', 'test_f1']:\n",
    "        metric_data = [[model, metrics[metric]] for model, metrics in models_metrics.items()]\n",
    "        table = wandb.Table(data=metric_data, columns=[\"model\", metric])\n",
    "        wandb.log({\n",
    "            f\"{metric}_comparison\": wandb.plot.bar(\n",
    "                table, \"model\", metric, title=f\"Model Comparison - {metric}\"\n",
    "            )\n",
    "        })"
   ]
  },
  {
   "cell_type": "markdown",
   "metadata": {},
   "source": [
    "## 3. 模型训练与评估\n",
    "### 3.1 MLP模型"
   ]
  },
  {
   "cell_type": "code",
   "execution_count": 5,
   "metadata": {},
   "outputs": [
    {
     "name": "stderr",
     "output_type": "stream",
     "text": [
      "\u001b[34m\u001b[1mwandb\u001b[0m: Using wandb-core as the SDK backend.  Please refer to https://wandb.me/wandb-core for more information.\n",
      "\u001b[34m\u001b[1mwandb\u001b[0m: Currently logged in as: \u001b[33m3555125903\u001b[0m (\u001b[33m3555125903-tsinghua-university\u001b[0m) to \u001b[32mhttps://api.wandb.ai\u001b[0m. Use \u001b[1m`wandb login --relogin`\u001b[0m to force relogin\n",
      "\u001b[34m\u001b[1mwandb\u001b[0m: \u001b[33mWARNING\u001b[0m Using a boolean value for 'reinit' is deprecated. Use 'return_previous' or 'finish_previous' instead.\n"
     ]
    },
    {
     "data": {
      "text/html": [],
      "text/plain": [
       "<IPython.core.display.HTML object>"
      ]
     },
     "metadata": {},
     "output_type": "display_data"
    },
    {
     "data": {
      "text/html": [
       "Tracking run with wandb version 0.19.9"
      ],
      "text/plain": [
       "<IPython.core.display.HTML object>"
      ]
     },
     "metadata": {},
     "output_type": "display_data"
    },
    {
     "data": {
      "text/html": [
       "Run data is saved locally in <code>/root/PA2/PA2_Sentiment_Analysis/wandb/run-20250415_135207-bga2f225</code>"
      ],
      "text/plain": [
       "<IPython.core.display.HTML object>"
      ]
     },
     "metadata": {},
     "output_type": "display_data"
    },
    {
     "data": {
      "text/html": [
       "Syncing run <strong><a href='https://wandb.ai/3555125903-tsinghua-university/sentiment-analysis/runs/bga2f225' target=\"_blank\">MLP</a></strong> to <a href='https://wandb.ai/3555125903-tsinghua-university/sentiment-analysis' target=\"_blank\">Weights & Biases</a> (<a href='https://wandb.me/developer-guide' target=\"_blank\">docs</a>)<br>"
      ],
      "text/plain": [
       "<IPython.core.display.HTML object>"
      ]
     },
     "metadata": {},
     "output_type": "display_data"
    },
    {
     "data": {
      "text/html": [
       " View project at <a href='https://wandb.ai/3555125903-tsinghua-university/sentiment-analysis' target=\"_blank\">https://wandb.ai/3555125903-tsinghua-university/sentiment-analysis</a>"
      ],
      "text/plain": [
       "<IPython.core.display.HTML object>"
      ]
     },
     "metadata": {},
     "output_type": "display_data"
    },
    {
     "data": {
      "text/html": [
       " View run at <a href='https://wandb.ai/3555125903-tsinghua-university/sentiment-analysis/runs/bga2f225' target=\"_blank\">https://wandb.ai/3555125903-tsinghua-university/sentiment-analysis/runs/bga2f225</a>"
      ],
      "text/plain": [
       "<IPython.core.display.HTML object>"
      ]
     },
     "metadata": {},
     "output_type": "display_data"
    },
    {
     "data": {
      "text/html": [],
      "text/plain": [
       "<IPython.core.display.HTML object>"
      ]
     },
     "metadata": {},
     "output_type": "display_data"
    },
    {
     "data": {
      "text/html": [
       " View run <strong style=\"color:#cdcd00\">MLP</strong> at: <a href='https://wandb.ai/3555125903-tsinghua-university/sentiment-analysis/runs/bga2f225' target=\"_blank\">https://wandb.ai/3555125903-tsinghua-university/sentiment-analysis/runs/bga2f225</a><br> View project at: <a href='https://wandb.ai/3555125903-tsinghua-university/sentiment-analysis' target=\"_blank\">https://wandb.ai/3555125903-tsinghua-university/sentiment-analysis</a><br>Synced 5 W&B file(s), 0 media file(s), 0 artifact file(s) and 0 other file(s)"
      ],
      "text/plain": [
       "<IPython.core.display.HTML object>"
      ]
     },
     "metadata": {},
     "output_type": "display_data"
    },
    {
     "data": {
      "text/html": [
       "Find logs at: <code>./wandb/run-20250415_135207-bga2f225/logs</code>"
      ],
      "text/plain": [
       "<IPython.core.display.HTML object>"
      ]
     },
     "metadata": {},
     "output_type": "display_data"
    },
    {
     "data": {
      "text/html": [
       "creating run (0.2s)"
      ],
      "text/plain": [
       "<IPython.core.display.HTML object>"
      ]
     },
     "metadata": {},
     "output_type": "display_data"
    },
    {
     "data": {
      "text/html": [
       "Tracking run with wandb version 0.19.9"
      ],
      "text/plain": [
       "<IPython.core.display.HTML object>"
      ]
     },
     "metadata": {},
     "output_type": "display_data"
    },
    {
     "data": {
      "text/html": [
       "Run data is saved locally in <code>/root/PA2/PA2_Sentiment_Analysis/wandb/run-20250415_135210-iqqaokg2</code>"
      ],
      "text/plain": [
       "<IPython.core.display.HTML object>"
      ]
     },
     "metadata": {},
     "output_type": "display_data"
    },
    {
     "data": {
      "text/html": [
       "Syncing run <strong><a href='https://wandb.ai/3555125903-tsinghua-university/sentiment-analysis/runs/iqqaokg2' target=\"_blank\">brisk-snowflake-4</a></strong> to <a href='https://wandb.ai/3555125903-tsinghua-university/sentiment-analysis' target=\"_blank\">Weights & Biases</a> (<a href='https://wandb.me/developer-guide' target=\"_blank\">docs</a>)<br>"
      ],
      "text/plain": [
       "<IPython.core.display.HTML object>"
      ]
     },
     "metadata": {},
     "output_type": "display_data"
    },
    {
     "data": {
      "text/html": [
       " View project at <a href='https://wandb.ai/3555125903-tsinghua-university/sentiment-analysis' target=\"_blank\">https://wandb.ai/3555125903-tsinghua-university/sentiment-analysis</a>"
      ],
      "text/plain": [
       "<IPython.core.display.HTML object>"
      ]
     },
     "metadata": {},
     "output_type": "display_data"
    },
    {
     "data": {
      "text/html": [
       " View run at <a href='https://wandb.ai/3555125903-tsinghua-university/sentiment-analysis/runs/iqqaokg2' target=\"_blank\">https://wandb.ai/3555125903-tsinghua-university/sentiment-analysis/runs/iqqaokg2</a>"
      ],
      "text/plain": [
       "<IPython.core.display.HTML object>"
      ]
     },
     "metadata": {},
     "output_type": "display_data"
    },
    {
     "name": "stderr",
     "output_type": "stream",
     "text": [
      "/root/PA2/PA2_Sentiment_Analysis/Dataset/data_processor.py:38: UserWarning: Creating a tensor from a list of numpy.ndarrays is extremely slow. Please consider converting the list to a single numpy.ndarray with numpy.array() before converting to a tensor. (Triggered internally at ../torch/csrc/utils/tensor_new.cpp:274.)\n",
      "  word_vectors = torch.tensor(word_vectors, dtype=torch.float32)\n"
     ]
    },
    {
     "name": "stdout",
     "output_type": "stream",
     "text": [
      "Epoch 1/10:\n",
      "Train Loss: 0.5462, Train F1: 0.7243\n",
      "Val Loss: 0.5062, Val F1: 0.7292\n",
      "\n",
      "Epoch 2/10:\n",
      "Train Loss: 0.5030, Train F1: 0.7625\n",
      "Val Loss: 0.4873, Val F1: 0.7623\n",
      "\n",
      "Epoch 3/10:\n",
      "Train Loss: 0.4981, Train F1: 0.7608\n",
      "Val Loss: 0.4811, Val F1: 0.7681\n",
      "\n",
      "Epoch 4/10:\n",
      "Train Loss: 0.4927, Train F1: 0.7636\n",
      "Val Loss: 0.4889, Val F1: 0.7762\n",
      "\n",
      "Epoch 5/10:\n",
      "Train Loss: 0.4878, Train F1: 0.7678\n",
      "Val Loss: 0.4878, Val F1: 0.7465\n",
      "\n",
      "Epoch 6/10:\n",
      "Train Loss: 0.4856, Train F1: 0.7703\n",
      "Val Loss: 0.4790, Val F1: 0.7781\n",
      "\n",
      "Epoch 7/10:\n",
      "Train Loss: 0.4844, Train F1: 0.7698\n",
      "Val Loss: 0.4793, Val F1: 0.7691\n",
      "\n",
      "Epoch 8/10:\n",
      "Train Loss: 0.4809, Train F1: 0.7706\n",
      "Val Loss: 0.4789, Val F1: 0.7547\n",
      "\n",
      "Epoch 9/10:\n",
      "Train Loss: 0.4780, Train F1: 0.7730\n",
      "Val Loss: 0.4726, Val F1: 0.7717\n",
      "\n",
      "Epoch 10/10:\n",
      "Train Loss: 0.4767, Train F1: 0.7738\n",
      "Val Loss: 0.4708, Val F1: 0.7700\n",
      "\n"
     ]
    },
    {
     "data": {
      "text/html": [],
      "text/plain": [
       "<IPython.core.display.HTML object>"
      ]
     },
     "metadata": {},
     "output_type": "display_data"
    },
    {
     "data": {
      "text/html": [
       "<br>    <style><br>        .wandb-row {<br>            display: flex;<br>            flex-direction: row;<br>            flex-wrap: wrap;<br>            justify-content: flex-start;<br>            width: 100%;<br>        }<br>        .wandb-col {<br>            display: flex;<br>            flex-direction: column;<br>            flex-basis: 100%;<br>            flex: 1;<br>            padding: 10px;<br>        }<br>    </style><br><div class=\"wandb-row\"><div class=\"wandb-col\"><h3>Run history:</h3><br/><table class=\"wandb\"><tr><td>train_accuracy</td><td>▁▆▆▇▇█▇███</td></tr><tr><td>train_f1</td><td>▁▆▆▇▇▇▇███</td></tr><tr><td>train_loss</td><td>█▄▃▃▂▂▂▁▁▁</td></tr><tr><td>train_precision</td><td>▁▆▆▇▇█▇▇██</td></tr><tr><td>train_recall</td><td>▁▇▆▆▇▇▇███</td></tr><tr><td>val_accuracy</td><td>▁▅▇▂▅▅▇▆▇█</td></tr><tr><td>val_f1</td><td>▁▆▇█▃█▇▅▇▇</td></tr><tr><td>val_loss</td><td>█▄▃▅▄▃▃▃▁▁</td></tr><tr><td>val_precision</td><td>▇▅▆▁█▂▅█▅▆</td></tr><tr><td>val_recall</td><td>▁▄▅█▂▇▅▃▅▄</td></tr></table><br/></div><div class=\"wandb-col\"><h3>Run summary:</h3><br/><table class=\"wandb\"><tr><td>train_accuracy</td><td>0.77088</td></tr><tr><td>train_f1</td><td>0.77384</td></tr><tr><td>train_loss</td><td>0.47668</td></tr><tr><td>train_precision</td><td>0.76396</td></tr><tr><td>train_recall</td><td>0.78398</td></tr><tr><td>val_accuracy</td><td>0.77527</td></tr><tr><td>val_f1</td><td>0.76996</td></tr><tr><td>val_loss</td><td>0.47081</td></tr><tr><td>val_precision</td><td>0.78787</td></tr><tr><td>val_recall</td><td>0.75284</td></tr></table><br/></div></div>"
      ],
      "text/plain": [
       "<IPython.core.display.HTML object>"
      ]
     },
     "metadata": {},
     "output_type": "display_data"
    },
    {
     "data": {
      "text/html": [
       " View run <strong style=\"color:#cdcd00\">brisk-snowflake-4</strong> at: <a href='https://wandb.ai/3555125903-tsinghua-university/sentiment-analysis/runs/iqqaokg2' target=\"_blank\">https://wandb.ai/3555125903-tsinghua-university/sentiment-analysis/runs/iqqaokg2</a><br> View project at: <a href='https://wandb.ai/3555125903-tsinghua-university/sentiment-analysis' target=\"_blank\">https://wandb.ai/3555125903-tsinghua-university/sentiment-analysis</a><br>Synced 5 W&B file(s), 0 media file(s), 0 artifact file(s) and 0 other file(s)"
      ],
      "text/plain": [
       "<IPython.core.display.HTML object>"
      ]
     },
     "metadata": {},
     "output_type": "display_data"
    },
    {
     "data": {
      "text/html": [
       "Find logs at: <code>./wandb/run-20250415_135210-iqqaokg2/logs</code>"
      ],
      "text/plain": [
       "<IPython.core.display.HTML object>"
      ]
     },
     "metadata": {},
     "output_type": "display_data"
    },
    {
     "name": "stdout",
     "output_type": "stream",
     "text": [
      "MLP Test Results: {'test_accuracy': 0.7723577235772358, 'test_precision': 0.8159509202453987, 'test_recall': 0.7112299465240641, 'test_f1': 0.76}\n"
     ]
    },
    {
     "ename": "Error",
     "evalue": "You must call wandb.init() before wandb.log()",
     "output_type": "error",
     "traceback": [
      "\u001b[0;31m---------------------------------------------------------------------------\u001b[0m",
      "\u001b[0;31mError\u001b[0m                                     Traceback (most recent call last)",
      "Cell \u001b[0;32mIn[5], line 28\u001b[0m\n\u001b[1;32m     25\u001b[0m \u001b[38;5;28mprint\u001b[39m(\u001b[38;5;124m'\u001b[39m\u001b[38;5;124mMLP Test Results:\u001b[39m\u001b[38;5;124m'\u001b[39m, mlp_test_metrics)\n\u001b[1;32m     27\u001b[0m \u001b[38;5;66;03m# 记录MLP测试结果\u001b[39;00m\n\u001b[0;32m---> 28\u001b[0m \u001b[43mwandb\u001b[49m\u001b[38;5;241;43m.\u001b[39;49m\u001b[43mlog\u001b[49m\u001b[43m(\u001b[49m\u001b[43mmlp_test_metrics\u001b[49m\u001b[43m)\u001b[49m\n\u001b[1;32m     30\u001b[0m \u001b[38;5;66;03m# 保存MLP模型到wandb\u001b[39;00m\n\u001b[1;32m     31\u001b[0m mlp_artifact \u001b[38;5;241m=\u001b[39m wandb\u001b[38;5;241m.\u001b[39mArtifact(\u001b[38;5;124mf\u001b[39m\u001b[38;5;124m\"\u001b[39m\u001b[38;5;124mmlp_model\u001b[39m\u001b[38;5;124m\"\u001b[39m, \u001b[38;5;28mtype\u001b[39m\u001b[38;5;241m=\u001b[39m\u001b[38;5;124m\"\u001b[39m\u001b[38;5;124mmodel\u001b[39m\u001b[38;5;124m\"\u001b[39m)\n",
      "File \u001b[0;32m~/miniconda3/lib/python3.12/site-packages/wandb/sdk/lib/preinit.py:36\u001b[0m, in \u001b[0;36mPreInitCallable.<locals>.preinit_wrapper\u001b[0;34m(*args, **kwargs)\u001b[0m\n\u001b[1;32m     35\u001b[0m \u001b[38;5;28;01mdef\u001b[39;00m \u001b[38;5;21mpreinit_wrapper\u001b[39m(\u001b[38;5;241m*\u001b[39margs: Any, \u001b[38;5;241m*\u001b[39m\u001b[38;5;241m*\u001b[39mkwargs: Any) \u001b[38;5;241m-\u001b[39m\u001b[38;5;241m>\u001b[39m Any:\n\u001b[0;32m---> 36\u001b[0m     \u001b[38;5;28;01mraise\u001b[39;00m wandb\u001b[38;5;241m.\u001b[39mError(\u001b[38;5;124mf\u001b[39m\u001b[38;5;124m\"\u001b[39m\u001b[38;5;124mYou must call wandb.init() before \u001b[39m\u001b[38;5;132;01m{\u001b[39;00mname\u001b[38;5;132;01m}\u001b[39;00m\u001b[38;5;124m()\u001b[39m\u001b[38;5;124m\"\u001b[39m)\n",
      "\u001b[0;31mError\u001b[0m: You must call wandb.init() before wandb.log()"
     ]
    }
   ],
   "source": [
    "# MLP配置\n",
    "mlp_config = {\n",
    "    'model_name': 'MLP',\n",
    "    'input_dim': 50,  # word2vec维度\n",
    "    'hidden_dim': 256,\n",
    "    'learning_rate': 0.001,\n",
    "    'num_epochs': 10\n",
    "}\n",
    "\n",
    "# 初始化wandb实验 - MLP\n",
    "mlp_run = init_wandb_experiment(mlp_config)\n",
    "\n",
    "# 初始化MLP模型\n",
    "mlp_model = MLP(input_dim=mlp_config['input_dim'], hidden_dim=mlp_config['hidden_dim'])\n",
    "\n",
    "# 记录MLP模型结构\n",
    "wandb.watch(mlp_model, log=\"all\")\n",
    "\n",
    "# 训练MLP\n",
    "mlp_trainer = Trainer(mlp_model, device, mlp_config)\n",
    "mlp_trainer.train(train_loader, val_loader, mlp_config['num_epochs'])\n",
    "\n",
    "# 测试MLP\n",
    "mlp_test_metrics = mlp_trainer.test(test_loader)\n",
    "print('MLP Test Results:', mlp_test_metrics)\n",
    "\n",
    "# 记录MLP测试结果\n",
    "wandb.log(mlp_test_metrics)\n",
    "\n",
    "# 保存MLP模型到wandb\n",
    "mlp_artifact = wandb.Artifact(f\"mlp_model\", type=\"model\")\n",
    "mlp_artifact.add_file(\"best_model.pth\")\n",
    "mlp_run.log_artifact(mlp_artifact)\n",
    "mlp_run.finish()"
   ]
  },
  {
   "cell_type": "markdown",
   "metadata": {},
   "source": [
    "### 3.2 CNN模型"
   ]
  },
  {
   "cell_type": "code",
   "execution_count": 6,
   "metadata": {},
   "outputs": [
    {
     "data": {
      "text/html": [
       "creating run (0.1s)"
      ],
      "text/plain": [
       "<IPython.core.display.HTML object>"
      ]
     },
     "metadata": {},
     "output_type": "display_data"
    },
    {
     "data": {
      "text/html": [
       "Tracking run with wandb version 0.19.9"
      ],
      "text/plain": [
       "<IPython.core.display.HTML object>"
      ]
     },
     "metadata": {},
     "output_type": "display_data"
    },
    {
     "data": {
      "text/html": [
       "Run data is saved locally in <code>/root/PA2/PA2_Sentiment_Analysis/wandb/run-20250415_135418-ynyzh602</code>"
      ],
      "text/plain": [
       "<IPython.core.display.HTML object>"
      ]
     },
     "metadata": {},
     "output_type": "display_data"
    },
    {
     "data": {
      "text/html": [
       "Syncing run <strong><a href='https://wandb.ai/3555125903-tsinghua-university/sentiment-analysis/runs/ynyzh602' target=\"_blank\">CNN</a></strong> to <a href='https://wandb.ai/3555125903-tsinghua-university/sentiment-analysis' target=\"_blank\">Weights & Biases</a> (<a href='https://wandb.me/developer-guide' target=\"_blank\">docs</a>)<br>"
      ],
      "text/plain": [
       "<IPython.core.display.HTML object>"
      ]
     },
     "metadata": {},
     "output_type": "display_data"
    },
    {
     "data": {
      "text/html": [
       " View project at <a href='https://wandb.ai/3555125903-tsinghua-university/sentiment-analysis' target=\"_blank\">https://wandb.ai/3555125903-tsinghua-university/sentiment-analysis</a>"
      ],
      "text/plain": [
       "<IPython.core.display.HTML object>"
      ]
     },
     "metadata": {},
     "output_type": "display_data"
    },
    {
     "data": {
      "text/html": [
       " View run at <a href='https://wandb.ai/3555125903-tsinghua-university/sentiment-analysis/runs/ynyzh602' target=\"_blank\">https://wandb.ai/3555125903-tsinghua-university/sentiment-analysis/runs/ynyzh602</a>"
      ],
      "text/plain": [
       "<IPython.core.display.HTML object>"
      ]
     },
     "metadata": {},
     "output_type": "display_data"
    },
    {
     "data": {
      "text/html": [],
      "text/plain": [
       "<IPython.core.display.HTML object>"
      ]
     },
     "metadata": {},
     "output_type": "display_data"
    },
    {
     "data": {
      "text/html": [
       " View run <strong style=\"color:#cdcd00\">CNN</strong> at: <a href='https://wandb.ai/3555125903-tsinghua-university/sentiment-analysis/runs/ynyzh602' target=\"_blank\">https://wandb.ai/3555125903-tsinghua-university/sentiment-analysis/runs/ynyzh602</a><br> View project at: <a href='https://wandb.ai/3555125903-tsinghua-university/sentiment-analysis' target=\"_blank\">https://wandb.ai/3555125903-tsinghua-university/sentiment-analysis</a><br>Synced 5 W&B file(s), 0 media file(s), 0 artifact file(s) and 0 other file(s)"
      ],
      "text/plain": [
       "<IPython.core.display.HTML object>"
      ]
     },
     "metadata": {},
     "output_type": "display_data"
    },
    {
     "data": {
      "text/html": [
       "Find logs at: <code>./wandb/run-20250415_135418-ynyzh602/logs</code>"
      ],
      "text/plain": [
       "<IPython.core.display.HTML object>"
      ]
     },
     "metadata": {},
     "output_type": "display_data"
    },
    {
     "data": {
      "text/html": [],
      "text/plain": [
       "<IPython.core.display.HTML object>"
      ]
     },
     "metadata": {},
     "output_type": "display_data"
    },
    {
     "data": {
      "text/html": [
       "Tracking run with wandb version 0.19.9"
      ],
      "text/plain": [
       "<IPython.core.display.HTML object>"
      ]
     },
     "metadata": {},
     "output_type": "display_data"
    },
    {
     "data": {
      "text/html": [
       "Run data is saved locally in <code>/root/PA2/PA2_Sentiment_Analysis/wandb/run-20250415_135420-rc2igr59</code>"
      ],
      "text/plain": [
       "<IPython.core.display.HTML object>"
      ]
     },
     "metadata": {},
     "output_type": "display_data"
    },
    {
     "data": {
      "text/html": [
       "Syncing run <strong><a href='https://wandb.ai/3555125903-tsinghua-university/sentiment-analysis/runs/rc2igr59' target=\"_blank\">winter-hill-6</a></strong> to <a href='https://wandb.ai/3555125903-tsinghua-university/sentiment-analysis' target=\"_blank\">Weights & Biases</a> (<a href='https://wandb.me/developer-guide' target=\"_blank\">docs</a>)<br>"
      ],
      "text/plain": [
       "<IPython.core.display.HTML object>"
      ]
     },
     "metadata": {},
     "output_type": "display_data"
    },
    {
     "data": {
      "text/html": [
       " View project at <a href='https://wandb.ai/3555125903-tsinghua-university/sentiment-analysis' target=\"_blank\">https://wandb.ai/3555125903-tsinghua-university/sentiment-analysis</a>"
      ],
      "text/plain": [
       "<IPython.core.display.HTML object>"
      ]
     },
     "metadata": {},
     "output_type": "display_data"
    },
    {
     "data": {
      "text/html": [
       " View run at <a href='https://wandb.ai/3555125903-tsinghua-university/sentiment-analysis/runs/rc2igr59' target=\"_blank\">https://wandb.ai/3555125903-tsinghua-university/sentiment-analysis/runs/rc2igr59</a>"
      ],
      "text/plain": [
       "<IPython.core.display.HTML object>"
      ]
     },
     "metadata": {},
     "output_type": "display_data"
    },
    {
     "name": "stderr",
     "output_type": "stream",
     "text": [
      "/root/miniconda3/lib/python3.12/site-packages/torch/autograd/graph.py:744: UserWarning: Plan failed with a cudnnException: CUDNN_BACKEND_EXECUTION_PLAN_DESCRIPTOR: cudnnFinalize Descriptor Failed cudnn_status: CUDNN_STATUS_NOT_SUPPORTED (Triggered internally at ../aten/src/ATen/native/cudnn/Conv_v8.cpp:919.)\n",
      "  return Variable._execution_engine.run_backward(  # Calls into the C++ engine to run the backward pass\n"
     ]
    },
    {
     "name": "stdout",
     "output_type": "stream",
     "text": [
      "Epoch 1/10:\n",
      "Train Loss: 0.5223, Train F1: 0.7388\n",
      "Val Loss: 0.4549, Val F1: 0.7769\n",
      "\n"
     ]
    },
    {
     "name": "stderr",
     "output_type": "stream",
     "text": [
      "/root/miniconda3/lib/python3.12/site-packages/torch/autograd/graph.py:744: UserWarning: Plan failed with a cudnnException: CUDNN_BACKEND_EXECUTION_PLAN_DESCRIPTOR: cudnnFinalize Descriptor Failed cudnn_status: CUDNN_STATUS_NOT_SUPPORTED (Triggered internally at ../aten/src/ATen/native/cudnn/Conv_v8.cpp:919.)\n",
      "  return Variable._execution_engine.run_backward(  # Calls into the C++ engine to run the backward pass\n"
     ]
    },
    {
     "name": "stdout",
     "output_type": "stream",
     "text": [
      "Epoch 2/10:\n",
      "Train Loss: 0.4411, Train F1: 0.7958\n",
      "Val Loss: 0.4430, Val F1: 0.7782\n",
      "\n",
      "Epoch 3/10:\n",
      "Train Loss: 0.4014, Train F1: 0.8173\n",
      "Val Loss: 0.4118, Val F1: 0.8142\n",
      "\n"
     ]
    },
    {
     "name": "stderr",
     "output_type": "stream",
     "text": [
      "/root/miniconda3/lib/python3.12/site-packages/torch/autograd/graph.py:744: UserWarning: Plan failed with a cudnnException: CUDNN_BACKEND_EXECUTION_PLAN_DESCRIPTOR: cudnnFinalize Descriptor Failed cudnn_status: CUDNN_STATUS_NOT_SUPPORTED (Triggered internally at ../aten/src/ATen/native/cudnn/Conv_v8.cpp:919.)\n",
      "  return Variable._execution_engine.run_backward(  # Calls into the C++ engine to run the backward pass\n"
     ]
    },
    {
     "name": "stdout",
     "output_type": "stream",
     "text": [
      "Epoch 4/10:\n",
      "Train Loss: 0.3675, Train F1: 0.8373\n",
      "Val Loss: 0.4049, Val F1: 0.8090\n",
      "\n",
      "Epoch 5/10:\n",
      "Train Loss: 0.3404, Train F1: 0.8520\n",
      "Val Loss: 0.3986, Val F1: 0.8269\n",
      "\n"
     ]
    },
    {
     "name": "stderr",
     "output_type": "stream",
     "text": [
      "/root/miniconda3/lib/python3.12/site-packages/torch/autograd/graph.py:744: UserWarning: Plan failed with a cudnnException: CUDNN_BACKEND_EXECUTION_PLAN_DESCRIPTOR: cudnnFinalize Descriptor Failed cudnn_status: CUDNN_STATUS_NOT_SUPPORTED (Triggered internally at ../aten/src/ATen/native/cudnn/Conv_v8.cpp:919.)\n",
      "  return Variable._execution_engine.run_backward(  # Calls into the C++ engine to run the backward pass\n"
     ]
    },
    {
     "name": "stdout",
     "output_type": "stream",
     "text": [
      "Epoch 6/10:\n",
      "Train Loss: 0.3119, Train F1: 0.8659\n",
      "Val Loss: 0.4066, Val F1: 0.8266\n",
      "\n",
      "Epoch 7/10:\n",
      "Train Loss: 0.2842, Train F1: 0.8807\n",
      "Val Loss: 0.4146, Val F1: 0.8283\n",
      "\n",
      "Epoch 8/10:\n",
      "Train Loss: 0.2579, Train F1: 0.8952\n",
      "Val Loss: 0.4067, Val F1: 0.8202\n",
      "\n",
      "Epoch 9/10:\n",
      "Train Loss: 0.2350, Train F1: 0.9019\n",
      "Val Loss: 0.4147, Val F1: 0.8286\n",
      "\n",
      "Epoch 10/10:\n",
      "Train Loss: 0.2251, Train F1: 0.9055\n",
      "Val Loss: 0.4139, Val F1: 0.8255\n",
      "\n"
     ]
    },
    {
     "data": {
      "text/html": [],
      "text/plain": [
       "<IPython.core.display.HTML object>"
      ]
     },
     "metadata": {},
     "output_type": "display_data"
    },
    {
     "data": {
      "text/html": [
       "<br>    <style><br>        .wandb-row {<br>            display: flex;<br>            flex-direction: row;<br>            flex-wrap: wrap;<br>            justify-content: flex-start;<br>            width: 100%;<br>        }<br>        .wandb-col {<br>            display: flex;<br>            flex-direction: column;<br>            flex-basis: 100%;<br>            flex: 1;<br>            padding: 10px;<br>        }<br>    </style><br><div class=\"wandb-row\"><div class=\"wandb-col\"><h3>Run history:</h3><br/><table class=\"wandb\"><tr><td>train_accuracy</td><td>▁▃▄▅▆▆▇███</td></tr><tr><td>train_f1</td><td>▁▃▄▅▆▆▇███</td></tr><tr><td>train_loss</td><td>█▆▅▄▄▃▂▂▁▁</td></tr><tr><td>train_precision</td><td>▁▄▅▅▆▆▇███</td></tr><tr><td>train_recall</td><td>▁▃▄▅▆▆▇▇██</td></tr><tr><td>val_accuracy</td><td>▁▃▅▆▇▇▇███</td></tr><tr><td>val_f1</td><td>▁▁▆▅███▇██</td></tr><tr><td>val_loss</td><td>█▇▃▂▁▂▃▂▃▃</td></tr><tr><td>val_precision</td><td>▃█▃█▄▂▁▇▅▆</td></tr><tr><td>val_recall</td><td>▂▁▆▄▇▇█▅▆▆</td></tr></table><br/></div><div class=\"wandb-col\"><h3>Run summary:</h3><br/><table class=\"wandb\"><tr><td>train_accuracy</td><td>0.90559</td></tr><tr><td>train_f1</td><td>0.9055</td></tr><tr><td>train_loss</td><td>0.22509</td></tr><tr><td>train_precision</td><td>0.9064</td></tr><tr><td>train_recall</td><td>0.90459</td></tr><tr><td>val_accuracy</td><td>0.82608</td></tr><tr><td>val_f1</td><td>0.82546</td></tr><tr><td>val_loss</td><td>0.4139</td></tr><tr><td>val_precision</td><td>0.82767</td></tr><tr><td>val_recall</td><td>0.82326</td></tr></table><br/></div></div>"
      ],
      "text/plain": [
       "<IPython.core.display.HTML object>"
      ]
     },
     "metadata": {},
     "output_type": "display_data"
    },
    {
     "data": {
      "text/html": [
       " View run <strong style=\"color:#cdcd00\">winter-hill-6</strong> at: <a href='https://wandb.ai/3555125903-tsinghua-university/sentiment-analysis/runs/rc2igr59' target=\"_blank\">https://wandb.ai/3555125903-tsinghua-university/sentiment-analysis/runs/rc2igr59</a><br> View project at: <a href='https://wandb.ai/3555125903-tsinghua-university/sentiment-analysis' target=\"_blank\">https://wandb.ai/3555125903-tsinghua-university/sentiment-analysis</a><br>Synced 5 W&B file(s), 0 media file(s), 0 artifact file(s) and 0 other file(s)"
      ],
      "text/plain": [
       "<IPython.core.display.HTML object>"
      ]
     },
     "metadata": {},
     "output_type": "display_data"
    },
    {
     "data": {
      "text/html": [
       "Find logs at: <code>./wandb/run-20250415_135420-rc2igr59/logs</code>"
      ],
      "text/plain": [
       "<IPython.core.display.HTML object>"
      ]
     },
     "metadata": {},
     "output_type": "display_data"
    },
    {
     "name": "stdout",
     "output_type": "stream",
     "text": [
      "CNN Test Results: {'test_accuracy': 0.8482384823848238, 'test_precision': 0.8742857142857143, 'test_recall': 0.8181818181818182, 'test_f1': 0.8453038674033149}\n"
     ]
    },
    {
     "ename": "Error",
     "evalue": "You must call wandb.init() before wandb.log()",
     "output_type": "error",
     "traceback": [
      "\u001b[0;31m---------------------------------------------------------------------------\u001b[0m",
      "\u001b[0;31mError\u001b[0m                                     Traceback (most recent call last)",
      "Cell \u001b[0;32mIn[6], line 31\u001b[0m\n\u001b[1;32m     28\u001b[0m \u001b[38;5;28mprint\u001b[39m(\u001b[38;5;124m'\u001b[39m\u001b[38;5;124mCNN Test Results:\u001b[39m\u001b[38;5;124m'\u001b[39m, cnn_test_metrics)\n\u001b[1;32m     30\u001b[0m \u001b[38;5;66;03m# 记录CNN测试结果\u001b[39;00m\n\u001b[0;32m---> 31\u001b[0m \u001b[43mwandb\u001b[49m\u001b[38;5;241;43m.\u001b[39;49m\u001b[43mlog\u001b[49m\u001b[43m(\u001b[49m\u001b[43mcnn_test_metrics\u001b[49m\u001b[43m)\u001b[49m\n\u001b[1;32m     33\u001b[0m \u001b[38;5;66;03m# 保存CNN模型到wandb\u001b[39;00m\n\u001b[1;32m     34\u001b[0m cnn_artifact \u001b[38;5;241m=\u001b[39m wandb\u001b[38;5;241m.\u001b[39mArtifact(\u001b[38;5;124mf\u001b[39m\u001b[38;5;124m\"\u001b[39m\u001b[38;5;124mcnn_model\u001b[39m\u001b[38;5;124m\"\u001b[39m, \u001b[38;5;28mtype\u001b[39m\u001b[38;5;241m=\u001b[39m\u001b[38;5;124m\"\u001b[39m\u001b[38;5;124mmodel\u001b[39m\u001b[38;5;124m\"\u001b[39m)\n",
      "File \u001b[0;32m~/miniconda3/lib/python3.12/site-packages/wandb/sdk/lib/preinit.py:36\u001b[0m, in \u001b[0;36mPreInitCallable.<locals>.preinit_wrapper\u001b[0;34m(*args, **kwargs)\u001b[0m\n\u001b[1;32m     35\u001b[0m \u001b[38;5;28;01mdef\u001b[39;00m \u001b[38;5;21mpreinit_wrapper\u001b[39m(\u001b[38;5;241m*\u001b[39margs: Any, \u001b[38;5;241m*\u001b[39m\u001b[38;5;241m*\u001b[39mkwargs: Any) \u001b[38;5;241m-\u001b[39m\u001b[38;5;241m>\u001b[39m Any:\n\u001b[0;32m---> 36\u001b[0m     \u001b[38;5;28;01mraise\u001b[39;00m wandb\u001b[38;5;241m.\u001b[39mError(\u001b[38;5;124mf\u001b[39m\u001b[38;5;124m\"\u001b[39m\u001b[38;5;124mYou must call wandb.init() before \u001b[39m\u001b[38;5;132;01m{\u001b[39;00mname\u001b[38;5;132;01m}\u001b[39;00m\u001b[38;5;124m()\u001b[39m\u001b[38;5;124m\"\u001b[39m)\n",
      "\u001b[0;31mError\u001b[0m: You must call wandb.init() before wandb.log()"
     ]
    }
   ],
   "source": [
    "# CNN配置\n",
    "cnn_config = {\n",
    "    'model_name': 'CNN',\n",
    "    'input_dim': 50,\n",
    "    'num_filters': 100,\n",
    "    'filter_sizes': (3, 4, 5),\n",
    "    'learning_rate': 0.001,\n",
    "    'num_epochs': 10\n",
    "}\n",
    "wandb.init()\n",
    "# 初始化wandb实验 - CNN\n",
    "cnn_run = init_wandb_experiment(cnn_config)\n",
    "\n",
    "# 初始化CNN模型\n",
    "cnn_model = TextCNN(input_dim=cnn_config['input_dim'],\n",
    "                   num_filters=cnn_config['num_filters'],\n",
    "                   filter_sizes=cnn_config['filter_sizes'])\n",
    "\n",
    "# 记录CNN模型结构\n",
    "wandb.watch(cnn_model, log=\"all\")\n",
    "\n",
    "# 训练CNN\n",
    "cnn_trainer = Trainer(cnn_model, device, cnn_config)\n",
    "cnn_trainer.train(train_loader, val_loader, cnn_config['num_epochs'])\n",
    "\n",
    "# 测试CNN\n",
    "cnn_test_metrics = cnn_trainer.test(test_loader)\n",
    "print('CNN Test Results:', cnn_test_metrics)\n",
    "\n",
    "# 记录CNN测试结果\n",
    "wandb.log(cnn_test_metrics)\n",
    "\n",
    "# 保存CNN模型到wandb\n",
    "cnn_artifact = wandb.Artifact(f\"cnn_model\", type=\"model\")\n",
    "cnn_artifact.add_file(\"best_model.pth\")\n",
    "cnn_run.log_artifact(cnn_artifact)\n",
    "cnn_run.finish()"
   ]
  },
  {
   "cell_type": "markdown",
   "metadata": {},
   "source": [
    "### 3.3 RNN模型（LSTM）"
   ]
  },
  {
   "cell_type": "code",
   "execution_count": 7,
   "metadata": {},
   "outputs": [
    {
     "data": {
      "text/html": [
       "Tracking run with wandb version 0.19.9"
      ],
      "text/plain": [
       "<IPython.core.display.HTML object>"
      ]
     },
     "metadata": {},
     "output_type": "display_data"
    },
    {
     "data": {
      "text/html": [
       "Run data is saved locally in <code>/root/PA2/PA2_Sentiment_Analysis/wandb/run-20250415_135731-e4uvrcrj</code>"
      ],
      "text/plain": [
       "<IPython.core.display.HTML object>"
      ]
     },
     "metadata": {},
     "output_type": "display_data"
    },
    {
     "data": {
      "text/html": [
       "Syncing run <strong><a href='https://wandb.ai/3555125903-tsinghua-university/uncategorized/runs/e4uvrcrj' target=\"_blank\">eager-eon-1</a></strong> to <a href='https://wandb.ai/3555125903-tsinghua-university/uncategorized' target=\"_blank\">Weights & Biases</a> (<a href='https://wandb.me/developer-guide' target=\"_blank\">docs</a>)<br>"
      ],
      "text/plain": [
       "<IPython.core.display.HTML object>"
      ]
     },
     "metadata": {},
     "output_type": "display_data"
    },
    {
     "data": {
      "text/html": [
       " View project at <a href='https://wandb.ai/3555125903-tsinghua-university/uncategorized' target=\"_blank\">https://wandb.ai/3555125903-tsinghua-university/uncategorized</a>"
      ],
      "text/plain": [
       "<IPython.core.display.HTML object>"
      ]
     },
     "metadata": {},
     "output_type": "display_data"
    },
    {
     "data": {
      "text/html": [
       " View run at <a href='https://wandb.ai/3555125903-tsinghua-university/uncategorized/runs/e4uvrcrj' target=\"_blank\">https://wandb.ai/3555125903-tsinghua-university/uncategorized/runs/e4uvrcrj</a>"
      ],
      "text/plain": [
       "<IPython.core.display.HTML object>"
      ]
     },
     "metadata": {},
     "output_type": "display_data"
    },
    {
     "data": {
      "text/html": [],
      "text/plain": [
       "<IPython.core.display.HTML object>"
      ]
     },
     "metadata": {},
     "output_type": "display_data"
    },
    {
     "data": {
      "text/html": [
       " View run <strong style=\"color:#cdcd00\">eager-eon-1</strong> at: <a href='https://wandb.ai/3555125903-tsinghua-university/uncategorized/runs/e4uvrcrj' target=\"_blank\">https://wandb.ai/3555125903-tsinghua-university/uncategorized/runs/e4uvrcrj</a><br> View project at: <a href='https://wandb.ai/3555125903-tsinghua-university/uncategorized' target=\"_blank\">https://wandb.ai/3555125903-tsinghua-university/uncategorized</a><br>Synced 5 W&B file(s), 0 media file(s), 0 artifact file(s) and 0 other file(s)"
      ],
      "text/plain": [
       "<IPython.core.display.HTML object>"
      ]
     },
     "metadata": {},
     "output_type": "display_data"
    },
    {
     "data": {
      "text/html": [
       "Find logs at: <code>./wandb/run-20250415_135731-e4uvrcrj/logs</code>"
      ],
      "text/plain": [
       "<IPython.core.display.HTML object>"
      ]
     },
     "metadata": {},
     "output_type": "display_data"
    },
    {
     "data": {
      "text/html": [],
      "text/plain": [
       "<IPython.core.display.HTML object>"
      ]
     },
     "metadata": {},
     "output_type": "display_data"
    },
    {
     "data": {
      "text/html": [
       "Tracking run with wandb version 0.19.9"
      ],
      "text/plain": [
       "<IPython.core.display.HTML object>"
      ]
     },
     "metadata": {},
     "output_type": "display_data"
    },
    {
     "data": {
      "text/html": [
       "Run data is saved locally in <code>/root/PA2/PA2_Sentiment_Analysis/wandb/run-20250415_135732-48mrr1bq</code>"
      ],
      "text/plain": [
       "<IPython.core.display.HTML object>"
      ]
     },
     "metadata": {},
     "output_type": "display_data"
    },
    {
     "data": {
      "text/html": [
       "Syncing run <strong><a href='https://wandb.ai/3555125903-tsinghua-university/sentiment-analysis/runs/48mrr1bq' target=\"_blank\">LSTM</a></strong> to <a href='https://wandb.ai/3555125903-tsinghua-university/sentiment-analysis' target=\"_blank\">Weights & Biases</a> (<a href='https://wandb.me/developer-guide' target=\"_blank\">docs</a>)<br>"
      ],
      "text/plain": [
       "<IPython.core.display.HTML object>"
      ]
     },
     "metadata": {},
     "output_type": "display_data"
    },
    {
     "data": {
      "text/html": [
       " View project at <a href='https://wandb.ai/3555125903-tsinghua-university/sentiment-analysis' target=\"_blank\">https://wandb.ai/3555125903-tsinghua-university/sentiment-analysis</a>"
      ],
      "text/plain": [
       "<IPython.core.display.HTML object>"
      ]
     },
     "metadata": {},
     "output_type": "display_data"
    },
    {
     "data": {
      "text/html": [
       " View run at <a href='https://wandb.ai/3555125903-tsinghua-university/sentiment-analysis/runs/48mrr1bq' target=\"_blank\">https://wandb.ai/3555125903-tsinghua-university/sentiment-analysis/runs/48mrr1bq</a>"
      ],
      "text/plain": [
       "<IPython.core.display.HTML object>"
      ]
     },
     "metadata": {},
     "output_type": "display_data"
    },
    {
     "data": {
      "text/html": [],
      "text/plain": [
       "<IPython.core.display.HTML object>"
      ]
     },
     "metadata": {},
     "output_type": "display_data"
    },
    {
     "data": {
      "text/html": [
       " View run <strong style=\"color:#cdcd00\">LSTM</strong> at: <a href='https://wandb.ai/3555125903-tsinghua-university/sentiment-analysis/runs/48mrr1bq' target=\"_blank\">https://wandb.ai/3555125903-tsinghua-university/sentiment-analysis/runs/48mrr1bq</a><br> View project at: <a href='https://wandb.ai/3555125903-tsinghua-university/sentiment-analysis' target=\"_blank\">https://wandb.ai/3555125903-tsinghua-university/sentiment-analysis</a><br>Synced 5 W&B file(s), 0 media file(s), 0 artifact file(s) and 0 other file(s)"
      ],
      "text/plain": [
       "<IPython.core.display.HTML object>"
      ]
     },
     "metadata": {},
     "output_type": "display_data"
    },
    {
     "data": {
      "text/html": [
       "Find logs at: <code>./wandb/run-20250415_135732-48mrr1bq/logs</code>"
      ],
      "text/plain": [
       "<IPython.core.display.HTML object>"
      ]
     },
     "metadata": {},
     "output_type": "display_data"
    },
    {
     "data": {
      "text/html": [],
      "text/plain": [
       "<IPython.core.display.HTML object>"
      ]
     },
     "metadata": {},
     "output_type": "display_data"
    },
    {
     "data": {
      "text/html": [
       "Tracking run with wandb version 0.19.9"
      ],
      "text/plain": [
       "<IPython.core.display.HTML object>"
      ]
     },
     "metadata": {},
     "output_type": "display_data"
    },
    {
     "data": {
      "text/html": [
       "Run data is saved locally in <code>/root/PA2/PA2_Sentiment_Analysis/wandb/run-20250415_135735-qt5lv09r</code>"
      ],
      "text/plain": [
       "<IPython.core.display.HTML object>"
      ]
     },
     "metadata": {},
     "output_type": "display_data"
    },
    {
     "data": {
      "text/html": [
       "Syncing run <strong><a href='https://wandb.ai/3555125903-tsinghua-university/sentiment-analysis/runs/qt5lv09r' target=\"_blank\">solar-snowball-8</a></strong> to <a href='https://wandb.ai/3555125903-tsinghua-university/sentiment-analysis' target=\"_blank\">Weights & Biases</a> (<a href='https://wandb.me/developer-guide' target=\"_blank\">docs</a>)<br>"
      ],
      "text/plain": [
       "<IPython.core.display.HTML object>"
      ]
     },
     "metadata": {},
     "output_type": "display_data"
    },
    {
     "data": {
      "text/html": [
       " View project at <a href='https://wandb.ai/3555125903-tsinghua-university/sentiment-analysis' target=\"_blank\">https://wandb.ai/3555125903-tsinghua-university/sentiment-analysis</a>"
      ],
      "text/plain": [
       "<IPython.core.display.HTML object>"
      ]
     },
     "metadata": {},
     "output_type": "display_data"
    },
    {
     "data": {
      "text/html": [
       " View run at <a href='https://wandb.ai/3555125903-tsinghua-university/sentiment-analysis/runs/qt5lv09r' target=\"_blank\">https://wandb.ai/3555125903-tsinghua-university/sentiment-analysis/runs/qt5lv09r</a>"
      ],
      "text/plain": [
       "<IPython.core.display.HTML object>"
      ]
     },
     "metadata": {},
     "output_type": "display_data"
    },
    {
     "name": "stdout",
     "output_type": "stream",
     "text": [
      "Epoch 1/20:\n",
      "Train Loss: 0.6920, Train F1: 0.5460\n",
      "Val Loss: 0.6931, Val F1: 0.6642\n",
      "\n",
      "Epoch 2/20:\n",
      "Train Loss: 0.6941, Train F1: 0.5128\n",
      "Val Loss: 0.6936, Val F1: 0.6638\n",
      "\n",
      "Epoch 3/20:\n",
      "Train Loss: 0.6927, Train F1: 0.5236\n",
      "Val Loss: 0.6922, Val F1: 0.6647\n",
      "\n",
      "Epoch 4/20:\n",
      "Train Loss: 0.6927, Train F1: 0.5415\n",
      "Val Loss: 0.6920, Val F1: 0.6677\n",
      "\n",
      "Epoch 5/20:\n",
      "Train Loss: 0.6921, Train F1: 0.5668\n",
      "Val Loss: 0.6932, Val F1: 0.6648\n",
      "\n",
      "Epoch 6/20:\n",
      "Train Loss: 0.6925, Train F1: 0.5492\n",
      "Val Loss: 0.6935, Val F1: 0.6639\n",
      "\n",
      "Epoch 7/20:\n",
      "Train Loss: 0.6912, Train F1: 0.5529\n",
      "Val Loss: 0.6915, Val F1: 0.6691\n",
      "\n",
      "Epoch 8/20:\n",
      "Train Loss: 0.6733, Train F1: 0.6257\n",
      "Val Loss: 0.6553, Val F1: 0.6918\n",
      "\n",
      "Epoch 9/20:\n",
      "Train Loss: 0.6285, Train F1: 0.6923\n",
      "Val Loss: 0.5578, Val F1: 0.7203\n",
      "\n",
      "Epoch 10/20:\n",
      "Train Loss: 0.5271, Train F1: 0.7511\n",
      "Val Loss: 0.4814, Val F1: 0.7658\n",
      "\n",
      "Epoch 11/20:\n",
      "Train Loss: 0.4778, Train F1: 0.7777\n",
      "Val Loss: 0.4658, Val F1: 0.7692\n",
      "\n",
      "Epoch 12/20:\n",
      "Train Loss: 0.4504, Train F1: 0.7946\n",
      "Val Loss: 0.4466, Val F1: 0.7934\n",
      "\n",
      "Epoch 13/20:\n",
      "Train Loss: 0.4269, Train F1: 0.8062\n",
      "Val Loss: 0.4482, Val F1: 0.8095\n",
      "\n",
      "Epoch 14/20:\n",
      "Train Loss: 0.4087, Train F1: 0.8170\n",
      "Val Loss: 0.4162, Val F1: 0.8104\n",
      "\n",
      "Epoch 15/20:\n",
      "Train Loss: 0.3930, Train F1: 0.8243\n",
      "Val Loss: 0.4106, Val F1: 0.8171\n",
      "\n",
      "Epoch 16/20:\n",
      "Train Loss: 0.3724, Train F1: 0.8362\n",
      "Val Loss: 0.4131, Val F1: 0.8247\n",
      "\n",
      "Epoch 17/20:\n",
      "Train Loss: 0.3547, Train F1: 0.8454\n",
      "Val Loss: 0.4057, Val F1: 0.8193\n",
      "\n",
      "Epoch 18/20:\n",
      "Train Loss: 0.3301, Train F1: 0.8591\n",
      "Val Loss: 0.4121, Val F1: 0.8071\n",
      "\n",
      "Epoch 19/20:\n",
      "Train Loss: 0.3047, Train F1: 0.8706\n",
      "Val Loss: 0.4400, Val F1: 0.8253\n",
      "\n",
      "Epoch 20/20:\n",
      "Train Loss: 0.2706, Train F1: 0.8874\n",
      "Val Loss: 0.5037, Val F1: 0.8033\n",
      "\n"
     ]
    },
    {
     "data": {
      "text/html": [],
      "text/plain": [
       "<IPython.core.display.HTML object>"
      ]
     },
     "metadata": {},
     "output_type": "display_data"
    },
    {
     "data": {
      "text/html": [
       "<br>    <style><br>        .wandb-row {<br>            display: flex;<br>            flex-direction: row;<br>            flex-wrap: wrap;<br>            justify-content: flex-start;<br>            width: 100%;<br>        }<br>        .wandb-col {<br>            display: flex;<br>            flex-direction: column;<br>            flex-basis: 100%;<br>            flex: 1;<br>            padding: 10px;<br>        }<br>    </style><br><div class=\"wandb-row\"><div class=\"wandb-col\"><h3>Run history:</h3><br/><table class=\"wandb\"><tr><td>train_accuracy</td><td>▁▁▁▁▁▁▁▂▄▅▆▆▇▇▇▇▇███</td></tr><tr><td>train_f1</td><td>▂▁▁▂▂▂▂▃▄▅▆▆▆▇▇▇▇▇██</td></tr><tr><td>train_loss</td><td>████████▇▅▄▄▄▃▃▃▂▂▂▁</td></tr><tr><td>train_precision</td><td>▁▁▁▁▁▁▁▂▃▅▆▆▆▇▇▇▇███</td></tr><tr><td>train_recall</td><td>▂▁▂▂▃▃▂▅▆▆▆▆▇▇▇▇▇▇██</td></tr><tr><td>val_accuracy</td><td>▁▁▁▁▁▁▁▄▆▇▇▇▇███████</td></tr><tr><td>val_f1</td><td>▁▁▁▁▁▁▁▂▃▅▆▇▇▇███▇█▇</td></tr><tr><td>val_loss</td><td>███████▇▅▃▂▂▂▁▁▁▁▁▂▃</td></tr><tr><td>val_precision</td><td>▁▁▁▁▁▁▁▃▆▇█▇▆█▇█▇█▇█</td></tr><tr><td>val_recall</td><td>███████▄▁▃▂▃▆▄▄▄▄▃▅▃</td></tr></table><br/></div><div class=\"wandb-col\"><h3>Run summary:</h3><br/><table class=\"wandb\"><tr><td>train_accuracy</td><td>0.88674</td></tr><tr><td>train_f1</td><td>0.8874</td></tr><tr><td>train_loss</td><td>0.27058</td></tr><tr><td>train_precision</td><td>0.88227</td></tr><tr><td>train_recall</td><td>0.89259</td></tr><tr><td>val_accuracy</td><td>0.81169</td></tr><tr><td>val_f1</td><td>0.80327</td></tr><tr><td>val_loss</td><td>0.50366</td></tr><tr><td>val_precision</td><td>0.84006</td></tr><tr><td>val_recall</td><td>0.76956</td></tr></table><br/></div></div>"
      ],
      "text/plain": [
       "<IPython.core.display.HTML object>"
      ]
     },
     "metadata": {},
     "output_type": "display_data"
    },
    {
     "data": {
      "text/html": [
       " View run <strong style=\"color:#cdcd00\">solar-snowball-8</strong> at: <a href='https://wandb.ai/3555125903-tsinghua-university/sentiment-analysis/runs/qt5lv09r' target=\"_blank\">https://wandb.ai/3555125903-tsinghua-university/sentiment-analysis/runs/qt5lv09r</a><br> View project at: <a href='https://wandb.ai/3555125903-tsinghua-university/sentiment-analysis' target=\"_blank\">https://wandb.ai/3555125903-tsinghua-university/sentiment-analysis</a><br>Synced 5 W&B file(s), 0 media file(s), 0 artifact file(s) and 0 other file(s)"
      ],
      "text/plain": [
       "<IPython.core.display.HTML object>"
      ]
     },
     "metadata": {},
     "output_type": "display_data"
    },
    {
     "data": {
      "text/html": [
       "Find logs at: <code>./wandb/run-20250415_135735-qt5lv09r/logs</code>"
      ],
      "text/plain": [
       "<IPython.core.display.HTML object>"
      ]
     },
     "metadata": {},
     "output_type": "display_data"
    },
    {
     "name": "stdout",
     "output_type": "stream",
     "text": [
      "LSTM Test Results: {'test_accuracy': 0.8157181571815718, 'test_precision': 0.8606060606060606, 'test_recall': 0.7593582887700535, 'test_f1': 0.8068181818181818}\n"
     ]
    },
    {
     "ename": "Error",
     "evalue": "You must call wandb.init() before wandb.log()",
     "output_type": "error",
     "traceback": [
      "\u001b[0;31m---------------------------------------------------------------------------\u001b[0m",
      "\u001b[0;31mError\u001b[0m                                     Traceback (most recent call last)",
      "Cell \u001b[0;32mIn[7], line 34\u001b[0m\n\u001b[1;32m     31\u001b[0m \u001b[38;5;28mprint\u001b[39m(\u001b[38;5;124m'\u001b[39m\u001b[38;5;124mLSTM Test Results:\u001b[39m\u001b[38;5;124m'\u001b[39m, lstm_test_metrics)\n\u001b[1;32m     33\u001b[0m \u001b[38;5;66;03m# 记录LSTM测试结果\u001b[39;00m\n\u001b[0;32m---> 34\u001b[0m \u001b[43mwandb\u001b[49m\u001b[38;5;241;43m.\u001b[39;49m\u001b[43mlog\u001b[49m\u001b[43m(\u001b[49m\u001b[43mlstm_test_metrics\u001b[49m\u001b[43m)\u001b[49m\n\u001b[1;32m     36\u001b[0m \u001b[38;5;66;03m# 保存LSTM模型到wandb\u001b[39;00m\n\u001b[1;32m     37\u001b[0m lstm_artifact \u001b[38;5;241m=\u001b[39m wandb\u001b[38;5;241m.\u001b[39mArtifact(\u001b[38;5;124mf\u001b[39m\u001b[38;5;124m\"\u001b[39m\u001b[38;5;124mlstm_model\u001b[39m\u001b[38;5;124m\"\u001b[39m, \u001b[38;5;28mtype\u001b[39m\u001b[38;5;241m=\u001b[39m\u001b[38;5;124m\"\u001b[39m\u001b[38;5;124mmodel\u001b[39m\u001b[38;5;124m\"\u001b[39m)\n",
      "File \u001b[0;32m~/miniconda3/lib/python3.12/site-packages/wandb/sdk/lib/preinit.py:36\u001b[0m, in \u001b[0;36mPreInitCallable.<locals>.preinit_wrapper\u001b[0;34m(*args, **kwargs)\u001b[0m\n\u001b[1;32m     35\u001b[0m \u001b[38;5;28;01mdef\u001b[39;00m \u001b[38;5;21mpreinit_wrapper\u001b[39m(\u001b[38;5;241m*\u001b[39margs: Any, \u001b[38;5;241m*\u001b[39m\u001b[38;5;241m*\u001b[39mkwargs: Any) \u001b[38;5;241m-\u001b[39m\u001b[38;5;241m>\u001b[39m Any:\n\u001b[0;32m---> 36\u001b[0m     \u001b[38;5;28;01mraise\u001b[39;00m wandb\u001b[38;5;241m.\u001b[39mError(\u001b[38;5;124mf\u001b[39m\u001b[38;5;124m\"\u001b[39m\u001b[38;5;124mYou must call wandb.init() before \u001b[39m\u001b[38;5;132;01m{\u001b[39;00mname\u001b[38;5;132;01m}\u001b[39;00m\u001b[38;5;124m()\u001b[39m\u001b[38;5;124m\"\u001b[39m)\n",
      "\u001b[0;31mError\u001b[0m: You must call wandb.init() before wandb.log()"
     ]
    }
   ],
   "source": [
    "# LSTM配置\n",
    "lstm_config = {\n",
    "    'model_name': 'LSTM',\n",
    "    'input_dim': 50,\n",
    "    'hidden_dim': 256,\n",
    "    'num_layers': 2,\n",
    "    'bidirectional': True,\n",
    "    'learning_rate': 0.001,\n",
    "    'num_epochs': 20\n",
    "}\n",
    "wandb.init()\n",
    "# 初始化wandb实验 - LSTM\n",
    "lstm_run = init_wandb_experiment(lstm_config)\n",
    "\n",
    "# 初始化LSTM模型\n",
    "lstm_model = RNNClassifier(input_dim=lstm_config['input_dim'],\n",
    "                         hidden_dim=lstm_config['hidden_dim'],\n",
    "                         num_layers=lstm_config['num_layers'],\n",
    "                         rnn_type='LSTM',\n",
    "                         bidirectional=lstm_config['bidirectional'])\n",
    "\n",
    "# 记录LSTM模型结构\n",
    "wandb.watch(lstm_model, log=\"all\")\n",
    "\n",
    "# 训练LSTM\n",
    "lstm_trainer = Trainer(lstm_model, device, lstm_config)\n",
    "lstm_trainer.train(train_loader, val_loader, lstm_config['num_epochs'])\n",
    "\n",
    "# 测试LSTM\n",
    "lstm_test_metrics = lstm_trainer.test(test_loader)\n",
    "print('LSTM Test Results:', lstm_test_metrics)\n",
    "\n",
    "# 记录LSTM测试结果\n",
    "wandb.log(lstm_test_metrics)\n",
    "\n",
    "# 保存LSTM模型到wandb\n",
    "lstm_artifact = wandb.Artifact(f\"lstm_model\", type=\"model\")\n",
    "lstm_artifact.add_file(\"best_model.pth\")\n",
    "lstm_run.log_artifact(lstm_artifact)\n",
    "lstm_run.finish()"
   ]
  },
  {
   "cell_type": "markdown",
   "metadata": {},
   "source": [
    "### 3.4 RNN模型（GRU）"
   ]
  },
  {
   "cell_type": "code",
   "execution_count": 8,
   "metadata": {},
   "outputs": [
    {
     "data": {
      "text/html": [],
      "text/plain": [
       "<IPython.core.display.HTML object>"
      ]
     },
     "metadata": {},
     "output_type": "display_data"
    },
    {
     "data": {
      "text/html": [
       "Tracking run with wandb version 0.19.9"
      ],
      "text/plain": [
       "<IPython.core.display.HTML object>"
      ]
     },
     "metadata": {},
     "output_type": "display_data"
    },
    {
     "data": {
      "text/html": [
       "Run data is saved locally in <code>/root/PA2/PA2_Sentiment_Analysis/wandb/run-20250415_140411-cdwda2ce</code>"
      ],
      "text/plain": [
       "<IPython.core.display.HTML object>"
      ]
     },
     "metadata": {},
     "output_type": "display_data"
    },
    {
     "data": {
      "text/html": [
       "Syncing run <strong><a href='https://wandb.ai/3555125903-tsinghua-university/sentiment-analysis/runs/cdwda2ce' target=\"_blank\">GRU</a></strong> to <a href='https://wandb.ai/3555125903-tsinghua-university/sentiment-analysis' target=\"_blank\">Weights & Biases</a> (<a href='https://wandb.me/developer-guide' target=\"_blank\">docs</a>)<br>"
      ],
      "text/plain": [
       "<IPython.core.display.HTML object>"
      ]
     },
     "metadata": {},
     "output_type": "display_data"
    },
    {
     "data": {
      "text/html": [
       " View project at <a href='https://wandb.ai/3555125903-tsinghua-university/sentiment-analysis' target=\"_blank\">https://wandb.ai/3555125903-tsinghua-university/sentiment-analysis</a>"
      ],
      "text/plain": [
       "<IPython.core.display.HTML object>"
      ]
     },
     "metadata": {},
     "output_type": "display_data"
    },
    {
     "data": {
      "text/html": [
       " View run at <a href='https://wandb.ai/3555125903-tsinghua-university/sentiment-analysis/runs/cdwda2ce' target=\"_blank\">https://wandb.ai/3555125903-tsinghua-university/sentiment-analysis/runs/cdwda2ce</a>"
      ],
      "text/plain": [
       "<IPython.core.display.HTML object>"
      ]
     },
     "metadata": {},
     "output_type": "display_data"
    },
    {
     "data": {
      "text/html": [],
      "text/plain": [
       "<IPython.core.display.HTML object>"
      ]
     },
     "metadata": {},
     "output_type": "display_data"
    },
    {
     "data": {
      "text/html": [
       " View run <strong style=\"color:#cdcd00\">GRU</strong> at: <a href='https://wandb.ai/3555125903-tsinghua-university/sentiment-analysis/runs/cdwda2ce' target=\"_blank\">https://wandb.ai/3555125903-tsinghua-university/sentiment-analysis/runs/cdwda2ce</a><br> View project at: <a href='https://wandb.ai/3555125903-tsinghua-university/sentiment-analysis' target=\"_blank\">https://wandb.ai/3555125903-tsinghua-university/sentiment-analysis</a><br>Synced 5 W&B file(s), 0 media file(s), 0 artifact file(s) and 0 other file(s)"
      ],
      "text/plain": [
       "<IPython.core.display.HTML object>"
      ]
     },
     "metadata": {},
     "output_type": "display_data"
    },
    {
     "data": {
      "text/html": [
       "Find logs at: <code>./wandb/run-20250415_140411-cdwda2ce/logs</code>"
      ],
      "text/plain": [
       "<IPython.core.display.HTML object>"
      ]
     },
     "metadata": {},
     "output_type": "display_data"
    },
    {
     "data": {
      "text/html": [],
      "text/plain": [
       "<IPython.core.display.HTML object>"
      ]
     },
     "metadata": {},
     "output_type": "display_data"
    },
    {
     "data": {
      "text/html": [
       "Tracking run with wandb version 0.19.9"
      ],
      "text/plain": [
       "<IPython.core.display.HTML object>"
      ]
     },
     "metadata": {},
     "output_type": "display_data"
    },
    {
     "data": {
      "text/html": [
       "Run data is saved locally in <code>/root/PA2/PA2_Sentiment_Analysis/wandb/run-20250415_140412-0ema2zf2</code>"
      ],
      "text/plain": [
       "<IPython.core.display.HTML object>"
      ]
     },
     "metadata": {},
     "output_type": "display_data"
    },
    {
     "data": {
      "text/html": [
       "Syncing run <strong><a href='https://wandb.ai/3555125903-tsinghua-university/sentiment-analysis/runs/0ema2zf2' target=\"_blank\">vague-monkey-10</a></strong> to <a href='https://wandb.ai/3555125903-tsinghua-university/sentiment-analysis' target=\"_blank\">Weights & Biases</a> (<a href='https://wandb.me/developer-guide' target=\"_blank\">docs</a>)<br>"
      ],
      "text/plain": [
       "<IPython.core.display.HTML object>"
      ]
     },
     "metadata": {},
     "output_type": "display_data"
    },
    {
     "data": {
      "text/html": [
       " View project at <a href='https://wandb.ai/3555125903-tsinghua-university/sentiment-analysis' target=\"_blank\">https://wandb.ai/3555125903-tsinghua-university/sentiment-analysis</a>"
      ],
      "text/plain": [
       "<IPython.core.display.HTML object>"
      ]
     },
     "metadata": {},
     "output_type": "display_data"
    },
    {
     "data": {
      "text/html": [
       " View run at <a href='https://wandb.ai/3555125903-tsinghua-university/sentiment-analysis/runs/0ema2zf2' target=\"_blank\">https://wandb.ai/3555125903-tsinghua-university/sentiment-analysis/runs/0ema2zf2</a>"
      ],
      "text/plain": [
       "<IPython.core.display.HTML object>"
      ]
     },
     "metadata": {},
     "output_type": "display_data"
    },
    {
     "name": "stdout",
     "output_type": "stream",
     "text": [
      "Epoch 1/20:\n",
      "Train Loss: 0.6578, Train F1: 0.5789\n",
      "Val Loss: 0.5278, Val F1: 0.7563\n",
      "\n",
      "Epoch 2/20:\n",
      "Train Loss: 0.5024, Train F1: 0.7633\n",
      "Val Loss: 0.4723, Val F1: 0.7541\n",
      "\n",
      "Epoch 3/20:\n",
      "Train Loss: 0.4482, Train F1: 0.7945\n",
      "Val Loss: 0.4518, Val F1: 0.7978\n",
      "\n",
      "Epoch 4/20:\n",
      "Train Loss: 0.4202, Train F1: 0.8111\n",
      "Val Loss: 0.4480, Val F1: 0.8106\n",
      "\n",
      "Epoch 5/20:\n",
      "Train Loss: 0.4011, Train F1: 0.8202\n",
      "Val Loss: 0.4189, Val F1: 0.8104\n",
      "\n",
      "Epoch 6/20:\n",
      "Train Loss: 0.3768, Train F1: 0.8327\n",
      "Val Loss: 0.4030, Val F1: 0.8113\n",
      "\n",
      "Epoch 7/20:\n",
      "Train Loss: 0.3455, Train F1: 0.8487\n",
      "Val Loss: 0.4134, Val F1: 0.8053\n",
      "\n",
      "Epoch 8/20:\n",
      "Train Loss: 0.3161, Train F1: 0.8655\n",
      "Val Loss: 0.4372, Val F1: 0.8210\n",
      "\n",
      "Epoch 9/20:\n",
      "Train Loss: 0.2734, Train F1: 0.8865\n",
      "Val Loss: 0.4249, Val F1: 0.8021\n",
      "\n",
      "Epoch 10/20:\n",
      "Train Loss: 0.2243, Train F1: 0.9088\n",
      "Val Loss: 0.4760, Val F1: 0.8144\n",
      "\n",
      "Epoch 11/20:\n",
      "Train Loss: 0.1701, Train F1: 0.9341\n",
      "Val Loss: 0.6284, Val F1: 0.7630\n",
      "\n",
      "Epoch 12/20:\n",
      "Train Loss: 0.1312, Train F1: 0.9517\n",
      "Val Loss: 0.7470, Val F1: 0.8105\n",
      "\n",
      "Epoch 13/20:\n",
      "Train Loss: 0.0907, Train F1: 0.9675\n",
      "Val Loss: 0.8605, Val F1: 0.8075\n",
      "\n",
      "Epoch 14/20:\n",
      "Train Loss: 0.0749, Train F1: 0.9737\n",
      "Val Loss: 0.7783, Val F1: 0.8166\n",
      "\n",
      "Epoch 15/20:\n",
      "Train Loss: 0.0599, Train F1: 0.9803\n",
      "Val Loss: 0.8645, Val F1: 0.8124\n",
      "\n",
      "Epoch 16/20:\n",
      "Train Loss: 0.0447, Train F1: 0.9858\n",
      "Val Loss: 0.8935, Val F1: 0.8027\n",
      "\n",
      "Epoch 17/20:\n",
      "Train Loss: 0.0433, Train F1: 0.9857\n",
      "Val Loss: 1.0660, Val F1: 0.8023\n",
      "\n",
      "Epoch 18/20:\n",
      "Train Loss: 0.0361, Train F1: 0.9882\n",
      "Val Loss: 0.9253, Val F1: 0.8144\n",
      "\n",
      "Epoch 19/20:\n",
      "Train Loss: 0.0373, Train F1: 0.9877\n",
      "Val Loss: 0.9251, Val F1: 0.8084\n",
      "\n",
      "Epoch 20/20:\n",
      "Train Loss: 0.0275, Train F1: 0.9910\n",
      "Val Loss: 0.9972, Val F1: 0.8094\n",
      "\n"
     ]
    },
    {
     "data": {
      "text/html": [],
      "text/plain": [
       "<IPython.core.display.HTML object>"
      ]
     },
     "metadata": {},
     "output_type": "display_data"
    },
    {
     "data": {
      "text/html": [
       "<br>    <style><br>        .wandb-row {<br>            display: flex;<br>            flex-direction: row;<br>            flex-wrap: wrap;<br>            justify-content: flex-start;<br>            width: 100%;<br>        }<br>        .wandb-col {<br>            display: flex;<br>            flex-direction: column;<br>            flex-basis: 100%;<br>            flex: 1;<br>            padding: 10px;<br>        }<br>    </style><br><div class=\"wandb-row\"><div class=\"wandb-col\"><h3>Run history:</h3><br/><table class=\"wandb\"><tr><td>train_accuracy</td><td>▁▄▅▅▅▅▆▆▆▇▇▇████████</td></tr><tr><td>train_f1</td><td>▁▄▅▅▅▅▆▆▆▇▇▇████████</td></tr><tr><td>train_loss</td><td>█▆▆▅▅▅▅▄▄▃▃▂▂▂▁▁▁▁▁▁</td></tr><tr><td>train_precision</td><td>▁▄▅▅▅▅▆▆▆▇▇▇████████</td></tr><tr><td>train_recall</td><td>▁▄▅▅▅▅▆▆▆▆▇▇████████</td></tr><tr><td>val_accuracy</td><td>▁▃▆▆▆▇▇█▇▇▅▇▇▇▇▆▆▇▆▆</td></tr><tr><td>val_f1</td><td>▁▁▆▇▇▇▆█▆▇▂▇▇█▇▆▆▇▇▇</td></tr><tr><td>val_loss</td><td>▂▂▂▁▁▁▁▁▁▂▃▅▆▅▆▆█▇▇▇</td></tr><tr><td>val_precision</td><td>▁▅▄▃▃▆▆▆▆▄█▆▅▄▅▅▅▃▄▄</td></tr><tr><td>val_recall</td><td>▅▂▆██▆▅▇▅▇▁▆▆█▇▆▆█▇▇</td></tr></table><br/></div><div class=\"wandb-col\"><h3>Run summary:</h3><br/><table class=\"wandb\"><tr><td>train_accuracy</td><td>0.99105</td></tr><tr><td>train_f1</td><td>0.99104</td></tr><tr><td>train_loss</td><td>0.02748</td></tr><tr><td>train_precision</td><td>0.99179</td></tr><tr><td>train_recall</td><td>0.9903</td></tr><tr><td>val_accuracy</td><td>0.80672</td></tr><tr><td>val_f1</td><td>0.80939</td></tr><tr><td>val_loss</td><td>0.99722</td></tr><tr><td>val_precision</td><td>0.79765</td></tr><tr><td>val_recall</td><td>0.82148</td></tr></table><br/></div></div>"
      ],
      "text/plain": [
       "<IPython.core.display.HTML object>"
      ]
     },
     "metadata": {},
     "output_type": "display_data"
    },
    {
     "data": {
      "text/html": [
       " View run <strong style=\"color:#cdcd00\">vague-monkey-10</strong> at: <a href='https://wandb.ai/3555125903-tsinghua-university/sentiment-analysis/runs/0ema2zf2' target=\"_blank\">https://wandb.ai/3555125903-tsinghua-university/sentiment-analysis/runs/0ema2zf2</a><br> View project at: <a href='https://wandb.ai/3555125903-tsinghua-university/sentiment-analysis' target=\"_blank\">https://wandb.ai/3555125903-tsinghua-university/sentiment-analysis</a><br>Synced 5 W&B file(s), 0 media file(s), 0 artifact file(s) and 0 other file(s)"
      ],
      "text/plain": [
       "<IPython.core.display.HTML object>"
      ]
     },
     "metadata": {},
     "output_type": "display_data"
    },
    {
     "data": {
      "text/html": [
       "Find logs at: <code>./wandb/run-20250415_140412-0ema2zf2/logs</code>"
      ],
      "text/plain": [
       "<IPython.core.display.HTML object>"
      ]
     },
     "metadata": {},
     "output_type": "display_data"
    },
    {
     "name": "stdout",
     "output_type": "stream",
     "text": [
      "GRU Test Results: {'test_accuracy': 0.8238482384823849, 'test_precision': 0.8388888888888889, 'test_recall': 0.8074866310160428, 'test_f1': 0.8228882833787466}\n"
     ]
    },
    {
     "ename": "Error",
     "evalue": "You must call wandb.init() before wandb.log()",
     "output_type": "error",
     "traceback": [
      "\u001b[0;31m---------------------------------------------------------------------------\u001b[0m",
      "\u001b[0;31mError\u001b[0m                                     Traceback (most recent call last)",
      "Cell \u001b[0;32mIn[8], line 34\u001b[0m\n\u001b[1;32m     31\u001b[0m \u001b[38;5;28mprint\u001b[39m(\u001b[38;5;124m'\u001b[39m\u001b[38;5;124mGRU Test Results:\u001b[39m\u001b[38;5;124m'\u001b[39m, gru_test_metrics)\n\u001b[1;32m     33\u001b[0m \u001b[38;5;66;03m# 记录GRU测试结果\u001b[39;00m\n\u001b[0;32m---> 34\u001b[0m \u001b[43mwandb\u001b[49m\u001b[38;5;241;43m.\u001b[39;49m\u001b[43mlog\u001b[49m\u001b[43m(\u001b[49m\u001b[43mgru_test_metrics\u001b[49m\u001b[43m)\u001b[49m\n\u001b[1;32m     36\u001b[0m \u001b[38;5;66;03m# 保存GRU模型到wandb\u001b[39;00m\n\u001b[1;32m     37\u001b[0m gru_artifact \u001b[38;5;241m=\u001b[39m wandb\u001b[38;5;241m.\u001b[39mArtifact(\u001b[38;5;124mf\u001b[39m\u001b[38;5;124m\"\u001b[39m\u001b[38;5;124mgru_model\u001b[39m\u001b[38;5;124m\"\u001b[39m, \u001b[38;5;28mtype\u001b[39m\u001b[38;5;241m=\u001b[39m\u001b[38;5;124m\"\u001b[39m\u001b[38;5;124mmodel\u001b[39m\u001b[38;5;124m\"\u001b[39m)\n",
      "File \u001b[0;32m~/miniconda3/lib/python3.12/site-packages/wandb/sdk/lib/preinit.py:36\u001b[0m, in \u001b[0;36mPreInitCallable.<locals>.preinit_wrapper\u001b[0;34m(*args, **kwargs)\u001b[0m\n\u001b[1;32m     35\u001b[0m \u001b[38;5;28;01mdef\u001b[39;00m \u001b[38;5;21mpreinit_wrapper\u001b[39m(\u001b[38;5;241m*\u001b[39margs: Any, \u001b[38;5;241m*\u001b[39m\u001b[38;5;241m*\u001b[39mkwargs: Any) \u001b[38;5;241m-\u001b[39m\u001b[38;5;241m>\u001b[39m Any:\n\u001b[0;32m---> 36\u001b[0m     \u001b[38;5;28;01mraise\u001b[39;00m wandb\u001b[38;5;241m.\u001b[39mError(\u001b[38;5;124mf\u001b[39m\u001b[38;5;124m\"\u001b[39m\u001b[38;5;124mYou must call wandb.init() before \u001b[39m\u001b[38;5;132;01m{\u001b[39;00mname\u001b[38;5;132;01m}\u001b[39;00m\u001b[38;5;124m()\u001b[39m\u001b[38;5;124m\"\u001b[39m)\n",
      "\u001b[0;31mError\u001b[0m: You must call wandb.init() before wandb.log()"
     ]
    }
   ],
   "source": [
    "# GRU配置\n",
    "gru_config = {\n",
    "    'model_name': 'GRU',\n",
    "    'input_dim': 50,\n",
    "    'hidden_dim': 256,\n",
    "    'num_layers': 2,\n",
    "    'bidirectional': True,\n",
    "    'learning_rate': 0.001,\n",
    "    'num_epochs': 20\n",
    "}\n",
    "\n",
    "# 初始化wandb实验 - GRU\n",
    "gru_run = init_wandb_experiment(gru_config)\n",
    "\n",
    "# 初始化GRU模型\n",
    "gru_model = RNNClassifier(input_dim=gru_config['input_dim'],\n",
    "                        hidden_dim=gru_config['hidden_dim'],\n",
    "                        num_layers=gru_config['num_layers'],\n",
    "                        rnn_type='GRU',\n",
    "                        bidirectional=gru_config['bidirectional'])\n",
    "\n",
    "# 记录GRU模型结构\n",
    "wandb.watch(gru_model, log=\"all\")\n",
    "\n",
    "# 训练GRU\n",
    "gru_trainer = Trainer(gru_model, device, gru_config)\n",
    "gru_trainer.train(train_loader, val_loader, gru_config['num_epochs'])\n",
    "\n",
    "# 测试GRU\n",
    "gru_test_metrics = gru_trainer.test(test_loader)\n",
    "print('GRU Test Results:', gru_test_metrics)\n",
    "\n",
    "# 记录GRU测试结果\n",
    "wandb.log(gru_test_metrics)\n",
    "\n",
    "# 保存GRU模型到wandb\n",
    "gru_artifact = wandb.Artifact(f\"gru_model\", type=\"model\")\n",
    "gru_artifact.add_file(\"best_model.pth\")\n",
    "gru_run.log_artifact(gru_artifact)\n",
    "gru_run.finish()"
   ]
  },
  {
   "cell_type": "markdown",
   "metadata": {},
   "source": [
    "## 4. 模型性能比较"
   ]
  },
  {
   "cell_type": "code",
   "execution_count": 9,
   "metadata": {},
   "outputs": [
    {
     "data": {
      "text/html": [
       "creating run (0.3s)"
      ],
      "text/plain": [
       "<IPython.core.display.HTML object>"
      ]
     },
     "metadata": {},
     "output_type": "display_data"
    },
    {
     "data": {
      "text/html": [
       "Tracking run with wandb version 0.19.9"
      ],
      "text/plain": [
       "<IPython.core.display.HTML object>"
      ]
     },
     "metadata": {},
     "output_type": "display_data"
    },
    {
     "data": {
      "text/html": [
       "Run data is saved locally in <code>/root/PA2/PA2_Sentiment_Analysis/wandb/run-20250415_141123-0az1yvi3</code>"
      ],
      "text/plain": [
       "<IPython.core.display.HTML object>"
      ]
     },
     "metadata": {},
     "output_type": "display_data"
    },
    {
     "data": {
      "text/html": [
       "Syncing run <strong><a href='https://wandb.ai/3555125903-tsinghua-university/sentiment-analysis/runs/0az1yvi3' target=\"_blank\">model_comparison</a></strong> to <a href='https://wandb.ai/3555125903-tsinghua-university/sentiment-analysis' target=\"_blank\">Weights & Biases</a> (<a href='https://wandb.me/developer-guide' target=\"_blank\">docs</a>)<br>"
      ],
      "text/plain": [
       "<IPython.core.display.HTML object>"
      ]
     },
     "metadata": {},
     "output_type": "display_data"
    },
    {
     "data": {
      "text/html": [
       " View project at <a href='https://wandb.ai/3555125903-tsinghua-university/sentiment-analysis' target=\"_blank\">https://wandb.ai/3555125903-tsinghua-university/sentiment-analysis</a>"
      ],
      "text/plain": [
       "<IPython.core.display.HTML object>"
      ]
     },
     "metadata": {},
     "output_type": "display_data"
    },
    {
     "data": {
      "text/html": [
       " View run at <a href='https://wandb.ai/3555125903-tsinghua-university/sentiment-analysis/runs/0az1yvi3' target=\"_blank\">https://wandb.ai/3555125903-tsinghua-university/sentiment-analysis/runs/0az1yvi3</a>"
      ],
      "text/plain": [
       "<IPython.core.display.HTML object>"
      ]
     },
     "metadata": {},
     "output_type": "display_data"
    },
    {
     "data": {
      "text/html": [],
      "text/plain": [
       "<IPython.core.display.HTML object>"
      ]
     },
     "metadata": {},
     "output_type": "display_data"
    },
    {
     "data": {
      "text/html": [
       " View run <strong style=\"color:#cdcd00\">model_comparison</strong> at: <a href='https://wandb.ai/3555125903-tsinghua-university/sentiment-analysis/runs/0az1yvi3' target=\"_blank\">https://wandb.ai/3555125903-tsinghua-university/sentiment-analysis/runs/0az1yvi3</a><br> View project at: <a href='https://wandb.ai/3555125903-tsinghua-university/sentiment-analysis' target=\"_blank\">https://wandb.ai/3555125903-tsinghua-university/sentiment-analysis</a><br>Synced 5 W&B file(s), 5 media file(s), 10 artifact file(s) and 0 other file(s)"
      ],
      "text/plain": [
       "<IPython.core.display.HTML object>"
      ]
     },
     "metadata": {},
     "output_type": "display_data"
    },
    {
     "data": {
      "text/html": [
       "Find logs at: <code>./wandb/run-20250415_141123-0az1yvi3/logs</code>"
      ],
      "text/plain": [
       "<IPython.core.display.HTML object>"
      ]
     },
     "metadata": {},
     "output_type": "display_data"
    }
   ],
   "source": [
    "# 模型性能比较\n",
    "models_metrics = {\n",
    "    'MLP': mlp_test_metrics,\n",
    "    'CNN': cnn_test_metrics,\n",
    "    'LSTM': lstm_test_metrics,\n",
    "    'GRU': gru_test_metrics\n",
    "}\n",
    "\n",
    "# 初始化比较实验\n",
    "comparison_run = init_wandb_experiment({\"comparison\": True}, name=\"model_comparison\")\n",
    "\n",
    "# 可视化比较结果\n",
    "compare_models(models_metrics)\n",
    "comparison_run.finish()"
   ]
  },
  {
   "cell_type": "code",
   "execution_count": null,
   "metadata": {},
   "outputs": [],
   "source": []
  }
 ],
 "metadata": {
  "kernelspec": {
   "display_name": "Python 3 (ipykernel)",
   "language": "python",
   "name": "python3"
  },
  "language_info": {
   "codemirror_mode": {
    "name": "ipython",
    "version": 3
   },
   "file_extension": ".py",
   "mimetype": "text/x-python",
   "name": "python",
   "nbconvert_exporter": "python",
   "pygments_lexer": "ipython3",
   "version": "3.12.3"
  }
 },
 "nbformat": 4,
 "nbformat_minor": 4
}
